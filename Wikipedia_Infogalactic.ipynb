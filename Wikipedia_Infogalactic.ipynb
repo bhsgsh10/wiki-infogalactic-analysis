{
  "nbformat": 4,
  "nbformat_minor": 0,
  "metadata": {
    "colab": {
      "name": "Wikipedia-Infogalactic.ipynb",
      "provenance": [],
      "collapsed_sections": []
    },
    "kernelspec": {
      "name": "python3",
      "display_name": "Python 3"
    }
  },
  "cells": [
    {
      "cell_type": "markdown",
      "metadata": {
        "id": "8iJW8br7diYJ"
      },
      "source": [
        "# Analysis of articles on Wikipedia and Infogalactic\n",
        "In this notebook we try to analyze the differences between the coverage of alt-right media on Wikipedia and Infogalactic. "
      ]
    },
    {
      "cell_type": "markdown",
      "metadata": {
        "id": "R4jJB7uSyEu5"
      },
      "source": [
        "### The following code scrapes the list of alt-right websites from the following Wikipedia page: https://en.wikipedia.org/wiki/Alternative_media_(U.S._political_right)#Television\n"
      ]
    },
    {
      "cell_type": "code",
      "metadata": {
        "id": "SWSbIHBnffWn"
      },
      "source": [
        "from bs4 import BeautifulSoup\n",
        "import requests\n",
        "\n",
        "link_list = \"https://en.wikipedia.org/wiki/Alternative_media_(U.S._political_right)#Television\"\n",
        "user_agent = \"Chrome/86.0.4240.22\"\n",
        "headers = {'User-Agent': user_agent}\n",
        "html = requests.get(link_list,headers=headers).text\n",
        "\n",
        "soup = BeautifulSoup(html, \"lxml\")\n",
        "body = soup('body')[0]\n",
        "headers_h2 = body.find_all('h2')\n",
        "websites = []\n",
        "for header in headers_h2:\n",
        "  header_text = header.get_text()\n",
        "  if 'Alternative media outlets' in header_text:\n",
        "    for sibling in header.next_siblings:\n",
        "      break_loop = False\n",
        "      if sibling.name == 'div':\n",
        "        table = sibling.table\n",
        "        # get the first ul element\n",
        "        tbody = table.tbody\n",
        "        tr = tbody.tr\n",
        "        td_array = tr.find_all('td')\n",
        "        for td in td_array:\n",
        "          ul_tags = td.find_all('ul')\n",
        "          for ul_tag in ul_tags:\n",
        "            \n",
        "            for li_tag in ul_tag.find_all('li'):\n",
        "              href = li_tag.find('a', href=True)\n",
        "              websites.append((href['href']).replace('/wiki/', ''))\n",
        "        break_loop = True\n",
        "            \n",
        "      if break_loop:\n",
        "        break\n",
        "      "
      ],
      "execution_count": null,
      "outputs": []
    },
    {
      "cell_type": "markdown",
      "metadata": {
        "id": "fmyR5rHEySuv"
      },
      "source": [
        "### The next step is to generate Wikipedia and Infogalactic URLs for the above websites\n",
        "Only those websites are selected which have more than one edits in their history."
      ]
    },
    {
      "cell_type": "code",
      "metadata": {
        "id": "vhlokFjtyccx",
        "outputId": "436da2c3-2558-4ee1-ec9f-ea43476771f4",
        "colab": {
          "base_uri": "https://localhost:8080/",
          "height": 71
        }
      },
      "source": [
        "wiki_urls = []\n",
        "infog_urls = []\n",
        "for website in websites:\n",
        "  # replace spaces with _\n",
        "  name = website.replace(\" \", \"_\")\n",
        "  infog_name = name\n",
        "  if 'CNSNews' in name:\n",
        "    infog_name = name.replace('CNSNews', 'Cybercast_News_Service')\n",
        "  infog_name = infog_name.replace(\" \", \"_\")\n",
        "  wiki_url = 'https://en.wikipedia.org/wiki/' + name\n",
        "  infog_url = 'https://infogalactic.com/info/' + infog_name\n",
        "  # evaluate page history\n",
        "  # Many of the Infogalactic pages have a single edit history. We won't select them for comparison\n",
        "  infog_page_history = 'https://infogalactic.com/w/index.php?title=' + infog_name + '&action=history'\n",
        "  infog_history_html = requests.get(infog_page_history,headers=headers).text\n",
        "  soup = BeautifulSoup(infog_history_html, 'lxml')\n",
        "  page_history_tag = soup.find(id='pagehistory')\n",
        "  if page_history_tag != None:\n",
        "    li_tags = page_history_tag.find_all('li')\n",
        "    if (len(li_tags)) > 1:\n",
        "      infog_urls.append('https://infogalactic.com/info/' + infog_name)\n",
        "      wiki_urls.append(wiki_url)\n",
        "print(wiki_urls)\n",
        "print(infog_urls)\n",
        "  "
      ],
      "execution_count": null,
      "outputs": [
        {
          "output_type": "stream",
          "text": [
            "['https://en.wikipedia.org/wiki/Fox_News', 'https://en.wikipedia.org/wiki/National_Review', 'https://en.wikipedia.org/wiki/The_American_Conservative', 'https://en.wikipedia.org/wiki/The_Weekly_Standard', 'https://en.wikipedia.org/wiki/The_Daily_Caller', 'https://en.wikipedia.org/wiki/Drudge_Report', 'https://en.wikipedia.org/wiki/InfoWars', 'https://en.wikipedia.org/wiki/The_Rebel_Media', 'https://en.wikipedia.org/wiki/Instapundit', 'https://en.wikipedia.org/wiki/Michelle_Malkin']\n",
            "['https://infogalactic.com/info/Fox_News', 'https://infogalactic.com/info/National_Review', 'https://infogalactic.com/info/The_American_Conservative', 'https://infogalactic.com/info/The_Weekly_Standard', 'https://infogalactic.com/info/The_Daily_Caller', 'https://infogalactic.com/info/Drudge_Report', 'https://infogalactic.com/info/InfoWars', 'https://infogalactic.com/info/The_Rebel_Media', 'https://infogalactic.com/info/Instapundit', 'https://infogalactic.com/info/Michelle_Malkin']\n"
          ],
          "name": "stdout"
        }
      ]
    },
    {
      "cell_type": "markdown",
      "metadata": {
        "id": "9WABLSNEcgdi"
      },
      "source": [
        "### Adding a utility function to remove references. \n",
        "eg; if a text is written like this - 'Fox News is a popular news outlet[8]', we need to remove [8] because that is not relevant to our comparison.\n",
        "In the code instances of '\\n' have been removed from the text as well."
      ]
    },
    {
      "cell_type": "code",
      "metadata": {
        "id": "n804L2_7c-Sk"
      },
      "source": [
        "# Removes references from the text\n",
        "def remove_references(text):\n",
        "  ret = ''\n",
        "  skip1c = 0\n",
        "  skip2c = 0\n",
        "  for i in text:\n",
        "      if i == '[':\n",
        "          skip1c += 1\n",
        "      elif i == ']' and skip1c > 0:\n",
        "          skip1c -= 1\n",
        "      elif skip1c == 0 and skip2c == 0:\n",
        "          ret += i\n",
        "  return ret"
      ],
      "execution_count": null,
      "outputs": []
    },
    {
      "cell_type": "markdown",
      "metadata": {
        "id": "QYKm8SfT0j9T"
      },
      "source": [
        "### Next we feed these URLs into a loop, extract the introductions of each of the TV channels from Infogalactic and Wikipedia\n",
        "We will take the first few paragraphs as introduction"
      ]
    },
    {
      "cell_type": "code",
      "metadata": {
        "id": "1VIv_lQi1DMe"
      },
      "source": [
        "import diff_match_patch as dmp_module\n",
        "\n",
        "index = 0\n",
        "user_agent = \"Chrome/77.0.3865.90\"\n",
        "headers = {'User-Agent': user_agent}\n",
        "# dictionary to store the differences in text from each website.\n",
        "# key -> infogalatic web URL of the website, value -> the text difference between text of the website from Wikipedia and Infogalactic,\n",
        "# returned by the diff method\n",
        "differences = {}\n",
        "while index < len(wiki_urls):\n",
        "  link_wiki = wiki_urls[index]\n",
        "  link_infog = infog_urls[index]\n",
        "  html = requests.get(link_infog,headers=headers).text\n",
        "  soup = BeautifulSoup(html, \"lxml\")\n",
        "  infogalactic_text = \"\"\n",
        "  text = soup.find_all(id='toc')[0]\n",
        "  for element in text.previous_siblings:\n",
        "    if element.name == 'p':\n",
        "      infogalactic_text = element.get_text() + infogalactic_text\n",
        "  infogalactic_text = remove_references(infogalactic_text)\n",
        "  infogalactic_text = infogalactic_text.replace('\\n', '')\n",
        "  \n",
        "  # getting introductions from the Wikipedia links\n",
        "  html = requests.get(link_wiki).text\n",
        "  soup = BeautifulSoup(html, \"lxml\")\n",
        "  wiki_text = \"\"\n",
        "  text = soup.find_all(id='toc')[0]\n",
        "  for element in text.previous_siblings:\n",
        "    if element.name == 'p':\n",
        "      wiki_text = element.get_text() + wiki_text\n",
        "\n",
        "    wiki_text = remove_references(wiki_text)\n",
        "    wiki_text = wiki_text.replace('\\n', '')\n",
        "  \n",
        "  # getting the difference in text for each of the websites\n",
        "  dmp = dmp_module.diff_match_patch()\n",
        "  diff = dmp.diff_main(wiki_text, infogalactic_text)\n",
        "  dmp.diff_cleanupSemantic(diff)\n",
        "  differences[link_infog] = diff\n",
        "  index = index + 1\n",
        "\n",
        "\n",
        "  "
      ],
      "execution_count": null,
      "outputs": []
    },
    {
      "cell_type": "markdown",
      "metadata": {
        "id": "BA_vI_CcTMKv"
      },
      "source": [
        "### We need to display the differences in text in HTML format\n",
        "Taking the differences in text from the above module, we can construct the HTML and show them in a legible format.\n",
        "Wikipedia content is highlighted in yellow, Infogalactic content is italicized and highlighted in red. \n",
        "\n",
        "diff_match_patch's prettyHtml method can also be used. Its usage is shown below but commented."
      ]
    },
    {
      "cell_type": "code",
      "metadata": {
        "id": "6A4-MyPxfAK1",
        "outputId": "1a11a63e-c113-4ea3-a51b-c49275b542cc",
        "colab": {
          "base_uri": "https://localhost:8080/",
          "height": 1000
        }
      },
      "source": [
        "from IPython.core.display import display, HTML\n",
        "import diff_match_patch as dmp_module\n",
        "\n",
        "def compute_class(number):\n",
        "  class_name = 'other'\n",
        "  if number == -1:\n",
        "    class_name = 'first'\n",
        "  elif number == 1:\n",
        "    class_name = 'second'\n",
        "  return class_name\n",
        "\n",
        "for (key, diff_array) in differences.items():\n",
        "  print('%s%s'% (key, '\\n'))\n",
        "  # construct HTML for the difference\n",
        "  html = '<head><style>.first{background-color: yellow;}\\n .second{background-color: #FF4500; font-style: italic; color: white;}</style></head><body><div>'\n",
        "  for diff in diff_array:\n",
        "    div_content = \"<span class=\" + compute_class(diff[0]) + \">\" + diff[1] + \"</span>\"\n",
        "    html = html + div_content\n",
        "  html = html + '</div>' + '</body></br>'\n",
        "  display(HTML(html))"
      ],
      "execution_count": null,
      "outputs": [
        {
          "output_type": "stream",
          "text": [
            "https://infogalactic.com/info/Fox_News\n",
            "\n"
          ],
          "name": "stdout"
        },
        {
          "output_type": "display_data",
          "data": {
            "text/html": [
              "<head><style>.first{background-color: yellow;}\n",
              " .second{background-color: #FF4500; font-style: italic; color: white;}</style></head><body><div><span class=other>Fox News (officially </span><span class=second>known as the </span><span class=other>Fox News Channel</span><span class=first> and</span><span class=second>, commonly</span><span class=other> abbreviated </span><span class=second>to </span><span class=other>FNC) is an American </span><span class=first>conservative pay</span><span class=second>basic cable and satellite</span><span class=other> television news channel</span><span class=first>. It is</span><span class=other> owned by the Fox </span><span class=first>News Group, which itself was owned by News Corporation from 1996–2013, 21st Century Fox from 2013–2019, and Fox Corporation since 2019</span><span class=second>Entertainment Group, a subsidiary of 21st Century Fox</span><span class=other>. The channel broadcasts primarily from studios at 1211 Avenue of the Americas</span><span class=first> in</span><span class=second>,</span><span class=other> New York City. Fox News is provided in 86 countries or overseas territories worldwide, with international broadcasts featuring Fox Extra segments during ad breaks.The channel was created by Australian-American media mogul Rupert Murdoch</span><span class=first> to appeal to a conservative audience, hiring</span><span class=second>, who hired</span><span class=other> former Republican Party media consultant and CNBC executive Roger Ailes as its founding CEO. It launched on October 7, 1996, to 17 million cable subscribers. Fox News grew during the late 1990s and 2000s to become </span><span class=first>the</span><span class=second>a</span><span class=other> dominant </span><span class=first>subscription</span><span class=second>cable</span><span class=other> news network in the U</span><span class=first>.S</span><span class=second>nited States</span><span class=other>. As of February</span><span class=first> </span><span class=second> </span><span class=other>2015, approximately 94,700,000 US households (81.4% of </span><span class=first>television subscrib</span><span class=second>cable, satellite & telco custom</span><span class=other>ers) receive </span><span class=second>the </span><span class=other>Fox News</span><span class=second> Channel</span><span class=other>. Murdoch is the current executive chairman and Suzanne Scott is the CEO.</span><span class=second>Editorially, </span><span class=other>Fox News </span><span class=second>C</span><span class=other>ha</span><span class=first>s been described as practicing biased reporting in favor of the Republican Party, the George W. Bush and Donald Trump administrations, and conservative causes while slandering the Democratic Party and spreading harmful propaganda intended to negatively affect its members' electoral performances. Critics have cited the channel as detrimental to the integrity of news overall</span><span class=second>nnel supports the Republican Party, Donald Trump and conservative causes</span><span class=other>. Fox News employees </span><span class=first>have said that</span><span class=second>say their</span><span class=other> news reporting operates independently of its opinion and commentary programming, and have denied bias in news reporting</span><span class=first>, while former employees have said that Fox ordered them to \"slant the news in favor of conservatives\". During Trump's presid</span><span class=second>. Online, Fox News practices race censorship in their comments sections, which are often disabled for controversial stories involving racial viol</span><span class=other>enc</span><span class=first>y</span><span class=second>e</span><span class=other>, </span><span class=first>observers have noted a pronounced tendency of Fox News to serve as a \"mouthpiece\" for the administration, providing \"propaganda\" and a \"feedback loop\" for Trump, with one presidential scholar stating, \"it’s the closest we’ve come to having state TV.\"</span><span class=second>and to a lesser extent problems with Islamization. This is likely to avoid politically incorrect comments which might disturb advertisers, and may also reflect a liberalization trend in the network after Rupert Murdoch.</span></div></body></br>"
            ],
            "text/plain": [
              "<IPython.core.display.HTML object>"
            ]
          },
          "metadata": {
            "tags": []
          }
        },
        {
          "output_type": "stream",
          "text": [
            "https://infogalactic.com/info/National_Review\n",
            "\n"
          ],
          "name": "stdout"
        },
        {
          "output_type": "display_data",
          "data": {
            "text/html": [
              "<head><style>.first{background-color: yellow;}\n",
              " .second{background-color: #FF4500; font-style: italic; color: white;}</style></head><body><div><span class=other>National Review </span><span class=first>is an American semi-monthly editorial magazine focusing on</span><span class=second>(N.R.) is a semi-monthly magazine founded by author William F. Buckley, Jr. in 1955 and based in New York.It describes itself as \"America's most widely read and influential magazine and web site for conservative</span><span class=other> news</span><span class=first> and</span><span class=second>,</span><span class=other> commentary</span><span class=first> pieces on political, social, and cultural affairs. The magazine was founded by the author William F. Buckley Jr. in 1955. It is currently edited by Rich Lowry.Since its founding, the magazine has played a significant role in the development of conservatism in the United State</span><span class=second>, and opinion.\" Although the print version of the magazine is available online to subscribers, the free content on the website is essentially a separate publication under different editorial direction.Traditionally, the magazine has supported corporate rights, and the removal of international barriers to free trade and to a lesser extent of migration. As such it has always opposed the concept of human biodiversity. In the 2000</span><span class=other>s, </span><span class=second>t</span><span class=other>he</span><span class=first>lping to define its boundaries and promoting fusionism while establishing itself as a leading voice on the American right.The online version, National Review Online, is edited by Charles C. W. Cooke and includes free content and articles separate from the print editio</span><span class=second> magazine was increasingly said to support political correctness, and to respect progressive and liberal values which they now consider mainstream, including forms of feminism. This has led to claims the magazine is SJW converged.Alt-right figures and other opponents accuse the magazine of being a cuckservative publication, of \"punching right\" against true right-wing movements, and of supporting The Cathedral, a name for the progressive cultural consensus said to include the Deep State. However, it has received limited praise from the political left, as when the magazine opposed Donald Trump's presidential campaig</span><span class=other>n.</span></div></body></br>"
            ],
            "text/plain": [
              "<IPython.core.display.HTML object>"
            ]
          },
          "metadata": {
            "tags": []
          }
        },
        {
          "output_type": "stream",
          "text": [
            "https://infogalactic.com/info/The_American_Conservative\n",
            "\n"
          ],
          "name": "stdout"
        },
        {
          "output_type": "display_data",
          "data": {
            "text/html": [
              "<head><style>.first{background-color: yellow;}\n",
              " .second{background-color: #FF4500; font-style: italic; color: white;}</style></head><body><div><span class=other>The American Conservative (TAC) is a </span><span class=first>magazine founded in 2002 and</span><span class=second>bi-monthly journal of opinion</span><span class=other> published by the American Ideas Institute. </span><span class=first>The publication states that it exists to promote a conservatism that opposes unchecked power in government and business; promote the flourishing of fami</span><span class=second>It reflects traditional American conservatism that has argued vigorously against American interventionism, against a debt-based fiscal policy used to finance adventurism abroad and government growth at home, and against the intrusions on Americans’ private </span><span class=other>li</span><span class=second>v</span><span class=other>es </span><span class=first>and communities through vibrant markets and free people; and embrace realism and restraint in foreign affairs based on America's national interests, otherwise known as paleoconservatism. Originally p</span><span class=second>by state security apparatus. In general, TAC represents an anti-war and paleoconservative voice against the dominance of what it sees as a neoconservative strain on the Right.The magazine's stated editorial position is \"that true conservatism has a predisposition for the institutions and mores that exist and the wisdom that underlies them. So much of what passes for contemporary conservatism is wedded to a kind of radicalism—fantasies of global hegemony, the h</span><span class=other>ub</span><span class=first>l</span><span class=second>r</span><span class=other>is</span><span class=first>hed twice a month, it was reduced to monthly publication in August 2009, and since February 2013</span><span class=second>tic notion of America as a universal nation for all the world's peoples, economic theories that are utopian and ruinous, and an eagerness to substitute diatribe for debate. We believe in the conservatism of our forefathers: prudent, adaptive, humble, and grateful.\"In 2011 and 2012, the magazine expanded its website, adding as daily columnists Rod Dreher, Daniel Larison, and Noah Millman</span><span class=other>, </span><span class=second>w</span><span class=other>it</span><span class=first> has appeared every two months</span><span class=second>h additional contributions by Scott Galupo, Kelley Vlahos, Philip Giraldi, Samuel Goldman, and Jordan Bloom</span><span class=other>.</span></div></body></br>"
            ],
            "text/plain": [
              "<IPython.core.display.HTML object>"
            ]
          },
          "metadata": {
            "tags": []
          }
        },
        {
          "output_type": "stream",
          "text": [
            "https://infogalactic.com/info/The_Weekly_Standard\n",
            "\n"
          ],
          "name": "stdout"
        },
        {
          "output_type": "display_data",
          "data": {
            "text/html": [
              "<head><style>.first{background-color: yellow;}\n",
              " .second{background-color: #FF4500; font-style: italic; color: white;}</style></head><body><div><span class=other>The Weekly Standard was an American </span><span class=first>political magazine of news, analysis and commentary</span><span class=second>mainstream conservative opinion magazine</span><span class=other> published 48 times per year. Its founding publisher, News Corporation, debuted the title on September 18, 1995. </span><span class=first>Original</span><span class=second>Most notab</span><span class=other>ly edited by founder</span><span class=first>s Bill</span><span class=second> William</span><span class=other> Kristol and Fred Barnes, the Standard had been described </span><span class=second>by \"soft conservative\" and bipartisan supporters </span><span class=other>as a \"redoubt of neoconservatism\" and as \"the neo-con bible</span><span class=first>.\" By 2018, it was owned by MediaDC, a subsidiary of Clarity Media Group, itself a subsidiary of The Anschutz Corporation. O</span><span class=second>\". Towards the end, it was increasingly criticized by those on the right as a member of the \"controlled opposition\", and a so-called cuckservative mouthpiece. The last issue was published o</span><span class=other>n December 1</span><span class=first>4</span><span class=second>7th</span><span class=other>, 2018</span><span class=first>, its owners announce</span><span class=second>.Since it was founded in 1995, The Weekly Standard had never been profitable, an</span><span class=other>d </span><span class=first>t</span><span class=other>ha</span><span class=first>t the magazine was ceasing publication, with the last issue published on December 17</span><span class=second>d remained in business through subsidies from conservative benefactors such as former owner Rupert Murdoch</span><span class=other>.Many of the magazine's articles were written by members of conservative think tanks located in Washington</span><span class=first>, including</span><span class=second>:</span><span class=other> the American Enterprise Institute, the Ethics and Public Policy Center, the Foundation for Defense of Democracies, the Hudson Institute, a</span><span class=first>nd the</span><span class=second>s well as Kristol's</span><span class=other> Foreign Policy Initiative. Individuals who </span><span class=first>wro</span><span class=second>have writ</span><span class=other>te</span><span class=second>n</span><span class=other> for the magazine include</span><span class=first>d</span><span class=other> Elliott Abrams, Peter Berkowitz, John R. Bolton, Ellen Bork, David Brooks,</span><span class=first> Gertrude Himmelfarb,</span><span class=other> Christopher Hitchens,</span><span class=second> Roger Kimball,</span><span class=other> Harvey Mansfield,</span><span class=first> Cynthia Ozick,</span><span class=other> Joe Queenan, and John Yoo. The magazine's website </span><span class=first>also produced regular online-only commentaries and news articles. The site's editorial stance was described as neo-conservative</span><span class=second>blog, titled Daily Standard, was edited by Daniel Halper and produced daily commentaries</span><span class=other>.</span></div></body></br>"
            ],
            "text/plain": [
              "<IPython.core.display.HTML object>"
            ]
          },
          "metadata": {
            "tags": []
          }
        },
        {
          "output_type": "stream",
          "text": [
            "https://infogalactic.com/info/The_Daily_Caller\n",
            "\n"
          ],
          "name": "stdout"
        },
        {
          "output_type": "display_data",
          "data": {
            "text/html": [
              "<head><style>.first{background-color: yellow;}\n",
              " .second{background-color: #FF4500; font-style: italic; color: white;}</style></head><body><div><span class=other>The Daily Caller is a</span><span class=first> conservative</span><span class=second>n American</span><span class=other> news and opinion website based in Washington, D.C. It was founded by </span><span class=first>Fox News host </span><span class=other>Tucker Carlson</span><span class=second>,</span><span class=other> a</span><span class=first>nd</span><span class=second> libertarian conservative</span><span class=other> political pundit</span><span class=second>, and</span><span class=other> Neil Patel</span><span class=first> in 2010.The Daily Caller has published numerous false stories, as well as shared deceptively edited videos and photos. The website publishes articles that dispute the scientific consensus on climate change. The website has published articles by white supremacists, such as Jason Kess</span><span class=second>, former adviser to former Vice President Dick Cheney. The site's coverage includes politics, business, world news, entertainment, sports, education, technology, outdoors, and energy.The Daily Caller launched on January 11, 2010 as a more politically conservative news and commentary out</span><span class=other>le</span><span class=first>r</span><span class=second>t</span><span class=other> and </span><span class=first>Pe</span><span class=second>al</span><span class=other>ter</span><span class=first> Brimelow. Scott Greer was The Daily Caller's deputy editor until</span><span class=second>native to the liberal The Huffington Post, similarly featuring sections in broad range of subjects beyond politics. By late</span><span class=other> 201</span><span class=first>8</span><span class=second>2</span><span class=other>, </span><span class=first>w</span><span class=second>T</span><span class=other>he</span><span class=first>n it was reveal</span><span class=second> New York Times report</span><span class=other>ed that </span><span class=second>t</span><span class=other>he </span><span class=first>published articles espousing white nationalist, racist anti-black and antisemitic views under a pseudonym in white supremacist publications</span><span class=second>site had quadrupled its page view and total audience and had become profitable without ever buying an advertisement for itself.Vince Coglianese has served as the publication's editor-in-chief since Carlson left to focus on his television program Tucker Carlson Tonight</span><span class=other>.</span></div></body></br>"
            ],
            "text/plain": [
              "<IPython.core.display.HTML object>"
            ]
          },
          "metadata": {
            "tags": []
          }
        },
        {
          "output_type": "stream",
          "text": [
            "https://infogalactic.com/info/Drudge_Report\n",
            "\n"
          ],
          "name": "stdout"
        },
        {
          "output_type": "display_data",
          "data": {
            "text/html": [
              "<head><style>.first{background-color: yellow;}\n",
              " .second{background-color: #FF4500; font-style: italic; color: white;}</style></head><body><div><span class=other>The Drudge Report is a </span><span class=second>politically </span><span class=other>conservative </span><span class=second>American </span><span class=other>news aggregat</span><span class=first>or</span><span class=second>ion</span><span class=other> website. Run by Matt Drudge with the help of Charles Hurt</span><span class=first> and Daniel Halper</span><span class=other>, the site consists mainly of links to </span><span class=first>news </span><span class=other>stories from </span><span class=first>o</span><span class=other>the</span><span class=first>r outlets</span><span class=second> United States and international mainstream media</span><span class=other> about politics, entertainment, and current events; it also has links to many columnists. Occasionally, Drudge authors new</span><span class=first>s</span><span class=other> stories himself, based on tips.The Drudge Report originated in 199</span><span class=first>5</span><span class=second>6</span><span class=other> as a weekly subscriber-based email dispatch. It was the first news source to break the Monica Lewinsky scandal to the public, after Newsweek decided to hold its story.</span><span class=second>The Drudge Report website now reports that it has received more than 1 billion visits in the last month and more than 10 billion visits in the last year.</span></div></body></br>"
            ],
            "text/plain": [
              "<IPython.core.display.HTML object>"
            ]
          },
          "metadata": {
            "tags": []
          }
        },
        {
          "output_type": "stream",
          "text": [
            "https://infogalactic.com/info/InfoWars\n",
            "\n"
          ],
          "name": "stdout"
        },
        {
          "output_type": "display_data",
          "data": {
            "text/html": [
              "<head><style>.first{background-color: yellow;}\n",
              " .second{background-color: #FF4500; font-style: italic; color: white;}</style></head><body><div><span class=other>InfoWars is a far-right American conspiracy theory and fake news website</span><span class=first> owned by Alex Jones</span><span class=other>. It was founded in 1999, and </span><span class=first>operates under</span><span class=second>is owned by</span><span class=other> Free Speech Systems LLC.Talk shows and other content for the site are created primarily in studios at an undisclosed location in an industrial area </span><span class=first>in the outskirts of</span><span class=second>outside</span><span class=other> Austin, Texas. The InfoWars website receives approximately 10 million monthly visits, making its reach greater than some mainstream news websites such as The Economist and Newsweek.The site has regularly published fake stories which have been linked to harassment of victims. In February 2018,</span><span class=second> Alex</span><span class=other> Jones, the publisher, director and owner of InfoWars, was accused of discrimination and sexually harassing employees. InfoWars, and in particular Jones, advocate numerous conspiracy theories particularly around purported domestic false flag operations by the U.S. Government (which they allege include the 9/11 attacks and Sandy Hook shootings). InfoWars has issued retractions various times as a result of legal challenges. Jones has </span><span class=second>also </span><span class=other>had contentious material removed, </span><span class=first>and has als</span><span class=other>o</span><span class=second>r</span><span class=other> been suspended </span><span class=first>and</span><span class=second>or</span><span class=other> banned from </span><span class=first>many</span><span class=second>various</span><span class=other> social media websites, including Facebook, Twitter, YouTube</span><span class=first>,</span><span class=second> and</span><span class=other> Apple</span><span class=first>, and Roku</span><span class=other>.InfoWars earns revenue from the sale of products pitched by Jones during the show. It has been called as much \"an online store that uses Mr. Jones's commentary to move merchandise\", as a media outlet.</span></div></body></br>"
            ],
            "text/plain": [
              "<IPython.core.display.HTML object>"
            ]
          },
          "metadata": {
            "tags": []
          }
        },
        {
          "output_type": "stream",
          "text": [
            "https://infogalactic.com/info/The_Rebel_Media\n",
            "\n"
          ],
          "name": "stdout"
        },
        {
          "output_type": "display_data",
          "data": {
            "text/html": [
              "<head><style>.first{background-color: yellow;}\n",
              " .second{background-color: #FF4500; font-style: italic; color: white;}</style></head><body><div><span class=other>The Rebel Media (o</span><span class=first>fficially</span><span class=second>r</span><span class=other> The Rebel</span><span class=first> News Network Ltd., stylized as THEREBEL.media, and shortened to The Rebel) is a</span><span class=second>) is a conservative</span><span class=other> Canadian </span><span class=first>far-right</span><span class=second>online</span><span class=other> political and social commentary media </span><span class=first>website. It was</span><span class=second>platform</span><span class=other> founded in February 2015 by former Sun News Network </span><span class=first>personalities Ezra Levant and Brian Lilley. It has been described as a \"global platform\" for the anti-Muslim ideology known as counter-jihad.The Rebel Media broadcasts its content on the Rebel Media website and its YouTube channel, which previously peaked on 16 August 2017, at 873,800 subscribers, however with the August departures, it had fallen to a minimum of 842,200 as of 31 August. In September–October 2017 the channel resumed its growth. On 25 June 2019, it had over 1.2 million subscriber</span><span class=second>host Ezra Levant. The Rebel Media broadcasts its content on the Rebel Media YouTube channel and the TheRebel.media website.Former Sun News Network parliamentary correspondent Brian Lilley and former SNN reporter Faith Goldy have joined the outlet. Former SNN host Michael Coren was briefly with the project but left after a week. Gavin McInnes is also a contributor.Levant argued that his online production would be unencumbered by the regulatory and distribution difficulties faced by Sun News Network and that its lower production costs would make it more viable. A crowdfunding campaign raised roughly CAD 100,000 for the project. In the times since, The Rebel has launched a pay service, encouraging subscribers to pay $8.00/month for access to the media outlet's daily, weekly and semi-monthly YouTube show</span><span class=other>s.</span><span class=second> </span><span class=other>The Rebel </span><span class=first>Media, often cast as Canada's version of Breitbart News, has been described as being part of the alt-right movement, although it rejected the term after the Charlottesville rally.Former Sun News reporter Faith Goldy joined the outlet after launch. The Rebel Media fired Faith Goldy for her prominent coverage of the 2017 Unite the Right rally in Charlottesville, Virginia, and her interview with The Daily Stormer.  A co-founder and two freelancers resigned in protest of the coverage. Gavin McInnes, founder of the far-right neo-fascist organization Proud Boys, is also a contributor. McInnes left the site in 2017, and rejoined the site in 2019.</span><span class=second>Premium Content is also available through Roku and Apple TV.In the summer of 2015, the channel, led by Levant, launched a campaign to boycott Tim Hortons, a chain of Canadian coffee shops, after it rejected in-store ads from Enbridge due to complaints from customers opposed to the oil pipeline projects being promoted by the ads.In early 2016, the Alberta government banned The Rebel Media's correspondents from press briefings on the grounds that, because Ezra Levant had testified in court in 2014 that he was a columnist or commentator rather than a reporter, none of his current correspondents could be considered to be journalists. On 17 February 2016, the government admitted that it made a mistake and said that it would allow The Rebel Media correspondents into press briefings. The Canadian Association of Journalists President Nick Taylor-Vaisey said \"Albertans should be choosing what coverage of their government they want to read, not seeing government try to choose what coverage is suitable for Albertans.\"</span></div></body></br>"
            ],
            "text/plain": [
              "<IPython.core.display.HTML object>"
            ]
          },
          "metadata": {
            "tags": []
          }
        },
        {
          "output_type": "stream",
          "text": [
            "https://infogalactic.com/info/Instapundit\n",
            "\n"
          ],
          "name": "stdout"
        },
        {
          "output_type": "display_data",
          "data": {
            "text/html": [
              "<head><style>.first{background-color: yellow;}\n",
              " .second{background-color: #FF4500; font-style: italic; color: white;}</style></head><body><div><span class=other>Instapundit is a libertarian blog maintained by Glenn Reynolds, a law professor at the University of Tennessee.</span></div></body></br>"
            ],
            "text/plain": [
              "<IPython.core.display.HTML object>"
            ]
          },
          "metadata": {
            "tags": []
          }
        },
        {
          "output_type": "stream",
          "text": [
            "https://infogalactic.com/info/Michelle_Malkin\n",
            "\n"
          ],
          "name": "stdout"
        },
        {
          "output_type": "display_data",
          "data": {
            "text/html": [
              "<head><style>.first{background-color: yellow;}\n",
              " .second{background-color: #FF4500; font-style: italic; color: white;}</style></head><body><div><span class=other>Michelle Malkin (/ˈmɔːlkɪn/; née Maglalang; born October 20, 1970) is an American conservative blogger, political commentator, author and businesswoman. Her weekly syndicated column appears in a number of newspapers and websites. She was a Fox News contributor and has been a guest on MSNBC, C-SPAN, and national radio programs. Malkin has written four books published by Regnery Publishing. She founded the conservative websites Twitchy and Hot Air.</span></div></body></br>"
            ],
            "text/plain": [
              "<IPython.core.display.HTML object>"
            ]
          },
          "metadata": {
            "tags": []
          }
        }
      ]
    },
    {
      "cell_type": "markdown",
      "metadata": {
        "id": "0OFRxWzct_xC"
      },
      "source": [
        "### Findings\n",
        "Infogalactic edits usually removed words like 'far-right'.\n",
        "\n",
        "- In the description of **Fox News**, Infogalactic does not contain text that says that their reporting is biased towards Republican candidates and that they have slandered Democratic candidates. Instead it says that Fox News supports *the Republican Party, Donald Trump and conservative causes*. \n",
        "\n",
        "- In case of **InfoWars** both Wikipedia and Infogalactic concurred in saying that it is a fake news website.\n",
        "\n",
        "- For **The Daily Caller**, Infogalactic did not use the term 'conservative' in the introduction. The main difference, however, is evident in the part where the Wikipwdia entry brings up an NYT accusation that Daily Caller *'published articles espousing white nationalist, racist anti-black and antisemitic views under a pseudonym in white supremacist publications.'* This part is entirely absent from the Infogalactic entry.\n",
        "\n",
        "- Wikipedia mentions that **The Rebel Media** is/was the Canadian version of Breitbart News, a title they rejected after the Charlottesville rally. Infogalactic does not mention this at all.\n",
        "\n",
        "- The differences in description for **The American Conservative** is also interesting. While Wikipedia mentions that the publication states that *'it exists to promote a conservatism that opposes unchecked power in government and business,'* Infogalactic says it reflects *'traditional American conservatism that has argued vigorously against American interventionism, against a debt-based fiscal policy used to finance adventurism abroad and government growth at home, and against the intrusions on Americans’ private lives.'*\n"
      ]
    }
  ]
}